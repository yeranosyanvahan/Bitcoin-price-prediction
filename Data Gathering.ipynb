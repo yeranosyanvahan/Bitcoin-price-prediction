{
 "cells": [
  {
   "cell_type": "code",
   "execution_count": 1,
   "metadata": {},
   "outputs": [],
   "source": [
    "from time import time\n",
    "from IPython.display import clear_output\n",
    "import os\n",
    "import pandas as pd\n",
    "from urllib.request import urlopen\n",
    "import requests"
   ]
  },
  {
   "cell_type": "code",
   "execution_count": 2,
   "metadata": {},
   "outputs": [],
   "source": [
    "def URL(url):\n",
    " url=urlopen(url)\n",
    " Data=eval(url.read().decode('ascii'))\n",
    " url.close()\n",
    " return Data\n",
    "def RAWURL(url):\n",
    " url=urlopen(url)\n",
    " Data=url.read()\n",
    " url.close()\n",
    " return Data"
   ]
  },
  {
   "cell_type": "code",
   "execution_count": 3,
   "metadata": {},
   "outputs": [],
   "source": [
    "prehashblock=\"https://blockchain.info/rawblock/\"\n",
    "prehashtransaction=\"https://blockchain.info/rawtx/\"\n",
    "true=True\n",
    "false=False\n",
    "null=0"
   ]
  },
  {
   "cell_type": "code",
   "execution_count": 4,
   "metadata": {},
   "outputs": [],
   "source": [
    "header=pd.read_csv('./raw blocks//header.csv')\n",
    "try:\n",
    " CurrentBlock=pd.read_csv('./raw blocks/current.blk')\n",
    "except:\n",
    " Hash=URL('https://blockchain.info/latestblock')['hash']   \n",
    " LatestBlock=URL(prehashblock+Hash)   \n",
    " CurrentBlock=header.append(LatestBlock,ignore_index=True)"
   ]
  },
  {
   "cell_type": "code",
   "execution_count": null,
   "metadata": {},
   "outputs": [
    {
     "name": "stdout",
     "output_type": "stream",
     "text": [
      "23 Block Done In 226.235276222229 Time\n"
     ]
    }
   ],
   "source": [
    "start=time()\n",
    "_=0\n",
    "while(time()-start < 3600*6):\n",
    " _=_+1\n",
    " Hash=CurrentBlock['prev_block']\n",
    " Hash=Hash[len(Hash)-1]\n",
    " block=URL(prehashblock+Hash)\n",
    " Block=header.append(block,ignore_index=True)\n",
    " os.rename('./raw blocks/current.blk','./raw blocks/'+CurrentBlock['hash'][0]+'.blk')\n",
    " Block.to_csv('./raw blocks/current.blk',index=False)\n",
    " CurrentBlock=Block\n",
    " clear_output()\n",
    " print(f'{_} Block Done In {time()-start} Time')"
   ]
  }
 ],
 "metadata": {
  "kernelspec": {
   "display_name": "Python 3",
   "language": "python",
   "name": "python3"
  },
  "language_info": {
   "codemirror_mode": {
    "name": "ipython",
    "version": 3
   },
   "file_extension": ".py",
   "mimetype": "text/x-python",
   "name": "python",
   "nbconvert_exporter": "python",
   "pygments_lexer": "ipython3",
   "version": "3.8.8"
  }
 },
 "nbformat": 4,
 "nbformat_minor": 2
}
