{
 "cells": [
  {
   "cell_type": "markdown",
   "metadata": {},
   "source": [
    "# Reading blocks and putting it in one dataframe"
   ]
  },
  {
   "cell_type": "code",
   "execution_count": 1,
   "metadata": {},
   "outputs": [],
   "source": [
    "import os, re\n",
    "import pandas as pd\n",
    "from ast import literal_eval"
   ]
  },
  {
   "cell_type": "code",
   "execution_count": 2,
   "metadata": {},
   "outputs": [],
   "source": [
    "try:\n",
    "    Exist=pd.read_csv('blockchain.csv')['hash'].to_list()\n",
    "except:\n",
    "    Exist=[]\n",
    "files = [f for f in os.listdir('./raw blocks/')]"
   ]
  },
  {
   "cell_type": "code",
   "execution_count": 3,
   "metadata": {},
   "outputs": [],
   "source": [
    "Exist=[ex+'.blk' for ex in Exist]"
   ]
  },
  {
   "cell_type": "code",
   "execution_count": null,
   "metadata": {},
   "outputs": [
    {
     "name": "stdout",
     "output_type": "stream",
     "text": [
      "847\n"
     ]
    }
   ],
   "source": [
    "files = [f for f in os.listdir('./raw blocks/')]\n",
    "files=list(set(Exist)^set(files))\n",
    "files=['./raw blocks/'+file for file in files if re.search(\".blk$\", file) and file != 'current.blk']\n",
    "print(len(files))\n",
    "files=files[:150]\n",
    "BlockChain=pd.read_csv(files[0]).drop(0)\n",
    "BlockChain=BlockChain.append([pd.read_csv(file,converters={\"tx\": literal_eval}) for file in files]).sort_values('block_index')"
   ]
  },
  {
   "cell_type": "markdown",
   "metadata": {},
   "source": [
    "# Breaking down Blockchain into 4 datasets"
   ]
  },
  {
   "cell_type": "code",
   "execution_count": null,
   "metadata": {},
   "outputs": [],
   "source": [
    "Tx=BlockChain['tx'].to_list()\n",
    "Tx=pd.DataFrame([T for tx in Tx for T in tx])"
   ]
  },
  {
   "cell_type": "code",
   "execution_count": null,
   "metadata": {},
   "outputs": [],
   "source": [
    "def transformer(S,Tx,I):\n",
    " for s in range(len(S)):\n",
    "    S[s]['transaction-hash']=Tx['hash'].iloc[I]\n",
    " return S"
   ]
  },
  {
   "cell_type": "code",
   "execution_count": null,
   "metadata": {},
   "outputs": [],
   "source": [
    "from numpy import nan\n",
    "INs=Tx['inputs'].to_numpy()\n",
    "INs=[transformer(S,Tx,I) for I,S in enumerate(INs)]\n",
    "empty={'spent': nan,\n",
    " 'script': nan,\n",
    " 'spending_outpoints': nan,\n",
    " 'tx_index': nan,\n",
    " 'value': nan,\n",
    " 'addr': nan,\n",
    " 'n': nan,\n",
    " 'type': nan}\n",
    "\n",
    "\n",
    "OUTs=Tx['out'].to_numpy()\n",
    "OUTs=[transformer(S,Tx,I) for I,S in enumerate(OUTs)]\n",
    "\n",
    "    \n",
    "INs=[p for x in INs for p in x]    \n",
    "OUTs=[p for x in OUTs for p in x]\n",
    "\n",
    "for _ in range(len(INs)):\n",
    "    if(type(INs[_]['prev_out']) != dict):\n",
    "     INs[_]['prev_out']=empty\n",
    "    \n",
    "\n",
    "\n",
    "INs=[{**S,**{'prev_out_'+key:value for key,value in S['prev_out'].items()}} for S in INs]"
   ]
  },
  {
   "cell_type": "code",
   "execution_count": null,
   "metadata": {},
   "outputs": [],
   "source": [
    "IN=pd.DataFrame(INs).drop('prev_out',axis=1)\n",
    "OUT=pd.DataFrame(OUTs)"
   ]
  },
  {
   "cell_type": "raw",
   "metadata": {},
   "source": [
    "#So I broke down the entire blockchain into 4 datasets: \n",
    "# Blochain: containing information about blockchain as a whole\n",
    "# Tx: containing information about transactions within each blockchain\n",
    "# IN: information about incoming transactions\n",
    "# OUT:information about outgoing transactions"
   ]
  },
  {
   "cell_type": "markdown",
   "metadata": {},
   "source": [
    "# Cleaning and working with those datasets"
   ]
  },
  {
   "cell_type": "code",
   "execution_count": null,
   "metadata": {},
   "outputs": [],
   "source": [
    "Important=['hash','block_index', 'time']\n",
    "blockchain=BlockChain[Important]\n",
    "\n",
    "Important=['hash','block_index', 'time']\n",
    "tx=Tx[Important]\n",
    "tx=tx.rename(columns={'hash':'index'})\n",
    "\n",
    "Important=['transaction-hash', 'prev_out_value', 'prev_out_addr']\n",
    "inp=IN[Important]\n",
    "inp.columns=['transaction-id', 'value','addr']\n",
    "\n",
    "Important=['transaction-hash', 'value','addr']\n",
    "out=OUT[Important]\n",
    "out=out.rename(columns={'transaction-hash':'transaction-id'})"
   ]
  },
  {
   "cell_type": "code",
   "execution_count": null,
   "metadata": {},
   "outputs": [],
   "source": [
    "out['value']=out['value']*(-1)\n",
    "inp_out=inp.append(out)"
   ]
  },
  {
   "cell_type": "markdown",
   "metadata": {},
   "source": [
    "# Saving it for later access"
   ]
  },
  {
   "cell_type": "code",
   "execution_count": null,
   "metadata": {},
   "outputs": [],
   "source": [
    "try:\n",
    " inp_out.append(pd.read_csv('inp_out.csv')).to_csv('inp_out.csv',index=False)\n",
    " tx.append(pd.read_csv('tx.csv')).to_csv('tx.csv',index=False)\n",
    " blockchain.append(pd.read_csv('blockchain.csv')).set_index('block_index').reset_index().to_csv('blockchain.csv',index=False)\n",
    "except:\n",
    " blockchain.to_csv('blockchain.csv',index=False)\n",
    " inp_out.to_csv('inp_out.csv',index=False)\n",
    " tx.to_csv('tx.csv',index=False)\n"
   ]
  },
  {
   "cell_type": "code",
   "execution_count": null,
   "metadata": {},
   "outputs": [
    {
     "name": "stdout",
     "output_type": "stream",
     "text": [
      "847\r\n"
     ]
    }
   ],
   "source": [
    "!python Data\\ Extraction.py\n",
    "!python Data\\ Extraction.py\n",
    "!python Data\\ Extraction.py\n",
    "!python Data\\ Extraction.py\n",
    "!python Data\\ Extraction.py\n",
    "!python Data\\ Extraction.py"
   ]
  },
  {
   "cell_type": "code",
   "execution_count": null,
   "metadata": {},
   "outputs": [],
   "source": []
  }
 ],
 "metadata": {
  "kernelspec": {
   "display_name": "Python 3",
   "language": "python",
   "name": "python3"
  },
  "language_info": {
   "codemirror_mode": {
    "name": "ipython",
    "version": 3
   },
   "file_extension": ".py",
   "mimetype": "text/x-python",
   "name": "python",
   "nbconvert_exporter": "python",
   "pygments_lexer": "ipython3",
   "version": "3.8.8"
  }
 },
 "nbformat": 4,
 "nbformat_minor": 2
}
