{
 "cells": [
  {
   "cell_type": "code",
   "execution_count": 1,
   "id": "bdf5ebaf",
   "metadata": {},
   "outputs": [],
   "source": [
    "import pandas as pd\n",
    "from matplotlib import pyplot as plt\n",
    "from statsmodels.tsa.holtwinters import ExponentialSmoothing  as Smooth\n",
    "from statsmodels.graphics.tsaplots import plot_pacf as PACF\n",
    "from statsmodels.graphics.tsaplots import plot_acf as ACF\n",
    "from statsmodels.tsa.stattools import adfuller as ADF\n",
    "from statsmodels.tools.eval_measures import aic as AIC, bic as BIC\n",
    "import statsmodels.api as sm\n",
    "from statsmodels.tsa.arima_model import ARMA \n",
    "from statsmodels.tsa.arima_model import ARIMA \n",
    "from statsmodels.tsa.statespace.sarimax import SARIMAX \n",
    "from sklearn.metrics import mean_squared_error as MSE\n",
    "import numpy as np\n",
    "qqplot=sm.qqplot\n",
    "ljungbox=sm.stats.acorr_ljungbox\n",
    "\n",
    "import pandas as pd\n",
    "from time import time\n",
    "from IPython.display import clear_output\n",
    "from urllib.request import urlopen\n",
    "import matplotlib.pyplot as plt\n",
    "from statsmodels.tsa.stattools import kpss\n",
    "def kpss_test(series, **kw):    \n",
    "    statistic, p_value, n_lags, critical_values = kpss(series, **kw)\n",
    "    # Format Output\n",
    "    print(f'KPSS Statistic: {statistic}')\n",
    "    print(f'p-value: {p_value}')\n",
    "    print(f'num lags: {n_lags}')\n",
    "    print('Critial Values:')\n",
    "    for key, value in critical_values.items():\n",
    "        print(f'   {key} : {value}')\n",
    "    print(f'Result: The series is {\"not \" if p_value < 0.05 else \"\"}stationary')\n"
   ]
  },
  {
   "cell_type": "code",
   "execution_count": 2,
   "id": "5b97183b",
   "metadata": {},
   "outputs": [
    {
     "name": "stdout",
     "output_type": "stream",
     "text": [
      "BITCION BLOCKCHAIN CONTAINING 2208 BLOCKS\n",
      "BITCION TRANSACTION HISTORY HAVING 2600215 TRANSACTIONS\n"
     ]
    }
   ],
   "source": [
    "blockchain=pd.read_csv('./blockchain.csv')\n",
    "print(f\"BITCION BLOCKCHAIN CONTAINING {len(blockchain)} BLOCKS\")\n",
    "\n",
    "tx=pd.read_csv('./tx.csv')\n",
    "print(f\"BITCION TRANSACTION HISTORY HAVING {len(tx)} TRANSACTIONS\")\n",
    "\n",
    "#inp_out=pd.read_csv('./inp_out.csv')   \n",
    "#print(f\"BITCION INCOMING AND OUTOING TRANSACTION HISTORY HAVING {len(inp_out)} SAMPLES\")"
   ]
  },
  {
   "cell_type": "code",
   "execution_count": 3,
   "id": "ff1e2450",
   "metadata": {},
   "outputs": [],
   "source": [
    "def delete_block(indicies,blockchain,tx,inp_out):\n",
    " B=blockchain[blockchain['block_index'].isin(indicies)]\n",
    " blockchain=blockchain.drop(B.index)\n",
    " indicies=B.block_index\n",
    " B=tx[tx['block_index'].isin(indicies)]\n",
    " tx=tx.drop(B.index)\n",
    " indicies=B['index']\n",
    " B=inp_out[inp_out['transaction-id'].isin(indicies)]\n",
    " inp_out=inp_out.drop(B.index)\n",
    " return (blockchain,tx,inp_out)\n",
    "\n",
    "def save(blockchain):\n",
    " blockchain.to_csv('../blockchain.csv',index=False)\n"
   ]
  },
  {
   "cell_type": "code",
   "execution_count": 4,
   "id": "f3b6c545",
   "metadata": {},
   "outputs": [],
   "source": [
    "## Taking sample in the block\n",
    "#indicies=list(blockchain.iloc[50:]['block_index'])\n",
    "#blockchain,tx,inp_out=delete_block(indicies,blockchain,tx,inp_out)"
   ]
  },
  {
   "cell_type": "code",
   "execution_count": 5,
   "id": "ae4fff98",
   "metadata": {},
   "outputs": [],
   "source": [
    "inp_out=inp_out.drop(inp_out[inp_out['value']!=inp_out['value']].index)\n",
    "inp_out=inp_out.drop(inp_out[inp_out['value']==0].index)\n",
    "inp_out=inp_out.astype({'value':'int64'})"
   ]
  },
  {
   "cell_type": "code",
   "execution_count": 6,
   "id": "b3fe2301",
   "metadata": {},
   "outputs": [],
   "source": [
    "DF=inp_out.groupby('transaction-id').sum('value')\n",
    "X=pd.merge(DF,tx,how='left',left_on='transaction-id', right_on='index')\n",
    "P=X.groupby('block_index').sum('value')"
   ]
  },
  {
   "cell_type": "code",
   "execution_count": 7,
   "id": "7f5b949b",
   "metadata": {
    "scrolled": true
   },
   "outputs": [],
   "source": [
    "indicies=list(P[P['value']!=-6.25e+08].index)\n",
    "blockchain,tx,inp_out=delete_block(indicies,blockchain,tx,inp_out)\n",
    "\n",
    "blockchain['time']=pd.to_datetime(blockchain['time'],unit='s')\n",
    "indicies=blockchain[blockchain.time.dt.month>3]['block_index']\n",
    "blockchain,tx,inp_out=delete_block(indicies,blockchain,tx,inp_out)\n"
   ]
  },
  {
   "cell_type": "code",
   "execution_count": 8,
   "id": "5266a3af",
   "metadata": {},
   "outputs": [],
   "source": [
    "tmp=inp_out.groupby('transaction-id').sum('value')\n",
    "tmp=tmp[tmp['value']<0]\n",
    "tmp=pd.merge(tx,tmp,how='right',left_on='index',right_on='transaction-id')\n",
    "tmp.reset_index()\n",
    "tmp=tmp[['block_index','value']]\n",
    "tmp.columns=['block_index','fee']\n",
    "\n",
    "blockchain=pd.merge(tmp,blockchain,on='block_index')"
   ]
  },
  {
   "cell_type": "code",
   "execution_count": 9,
   "id": "5b06e50a",
   "metadata": {
    "scrolled": true
   },
   "outputs": [],
   "source": [
    "tmp=tx.groupby('block_index').count()\n",
    "tmp=tmp.drop('index',axis=1)\n",
    "tmp=tmp.reset_index()\n",
    "tmp=tmp.iloc[:,:2]\n",
    "tmp.columns=['block_index','ntx']\n",
    "\n",
    "blockchain=pd.merge(tmp,blockchain,on='block_index')"
   ]
  },
  {
   "cell_type": "code",
   "execution_count": 10,
   "id": "f68b4d40",
   "metadata": {
    "scrolled": true
   },
   "outputs": [],
   "source": [
    "tmp=inp_out.groupby(['transaction-id','addr']).sum('value').reset_index()\n",
    "tmp['value']=np.abs(tmp['value'])\n",
    "tmp=tmp.groupby('transaction-id').sum('value')\n",
    "tmp=pd.merge(tx,tmp,how='right',left_on='index',right_on='transaction-id')\n",
    "tmp=tmp.groupby('block_index').sum('value').reset_index()\n",
    "tmp=tmp[['block_index','value']]\n",
    "tmp.columns=['block_index','Transmission']\n",
    "\n",
    "blockchain=pd.merge(tmp,blockchain,on='block_index')"
   ]
  },
  {
   "cell_type": "code",
   "execution_count": 11,
   "id": "246eeecd",
   "metadata": {},
   "outputs": [],
   "source": [
    "tmp=inp_out\n",
    "tmp=pd.merge(tx,tmp,how='right',left_on='index',right_on='transaction-id')[['addr','block_index']]\n",
    "\n",
    "tmp['num_transmission']=1\n",
    "tmp=tmp.groupby(['block_index','addr']).sum('num_transmission').reset_index()\n",
    "\n",
    "tmp['num_addr']=1\n",
    "tmp=tmp.groupby('block_index').sum()\n",
    "\n",
    "blockchain=pd.merge(tmp.reset_index(),blockchain,on='block_index')"
   ]
  },
  {
   "cell_type": "code",
   "execution_count": 12,
   "id": "635069b9",
   "metadata": {
    "scrolled": true
   },
   "outputs": [],
   "source": [
    "blockchain['HashRate']=blockchain['time'].diff() / np.timedelta64(1, 's')\n",
    "blockchain=blockchain.iloc[1:]\n",
    "blockchain=blockchain.astype({'HashRate':'int64'})"
   ]
  },
  {
   "cell_type": "code",
   "execution_count": 13,
   "id": "fcce3bdc",
   "metadata": {},
   "outputs": [],
   "source": [
    "save(blockchain)"
   ]
  },
  {
   "cell_type": "code",
   "execution_count": 14,
   "id": "8f709347",
   "metadata": {},
   "outputs": [],
   "source": [
    "tmp=inp_out.groupby(['transaction-id','addr']).sum('value').reset_index()\n",
    "tmp=tmp.groupby('transaction-id').sum('value')\n",
    "tmp=pd.merge(tx,tmp,how='right',left_on='index',right_on='transaction-id')\n",
    "tmp=tmp.groupby('block_index').sum('value').reset_index()\n",
    "tmp=tmp[['block_index','value']]\n",
    "tmp.columns=['block_index','Transmission']"
   ]
  },
  {
   "cell_type": "code",
   "execution_count": null,
   "id": "6401353e",
   "metadata": {},
   "outputs": [],
   "source": []
  },
  {
   "cell_type": "code",
   "execution_count": null,
   "id": "3ef1e093",
   "metadata": {},
   "outputs": [],
   "source": []
  },
  {
   "cell_type": "code",
   "execution_count": null,
   "id": "b24c8e89",
   "metadata": {},
   "outputs": [],
   "source": []
  },
  {
   "cell_type": "code",
   "execution_count": null,
   "id": "b2bbab70",
   "metadata": {},
   "outputs": [],
   "source": []
  },
  {
   "cell_type": "code",
   "execution_count": null,
   "id": "cea6d2bc",
   "metadata": {},
   "outputs": [],
   "source": []
  },
  {
   "cell_type": "code",
   "execution_count": null,
   "id": "b445aad3",
   "metadata": {},
   "outputs": [],
   "source": []
  },
  {
   "cell_type": "code",
   "execution_count": null,
   "id": "0a021581",
   "metadata": {},
   "outputs": [],
   "source": []
  },
  {
   "cell_type": "code",
   "execution_count": null,
   "id": "c1af7489",
   "metadata": {},
   "outputs": [],
   "source": []
  },
  {
   "cell_type": "code",
   "execution_count": null,
   "id": "02ed6465",
   "metadata": {},
   "outputs": [],
   "source": []
  },
  {
   "cell_type": "code",
   "execution_count": null,
   "id": "58a63650",
   "metadata": {},
   "outputs": [],
   "source": []
  }
 ],
 "metadata": {
  "kernelspec": {
   "display_name": "Python 3",
   "language": "python",
   "name": "python3"
  },
  "language_info": {
   "codemirror_mode": {
    "name": "ipython",
    "version": 3
   },
   "file_extension": ".py",
   "mimetype": "text/x-python",
   "name": "python",
   "nbconvert_exporter": "python",
   "pygments_lexer": "ipython3",
   "version": "3.8.8"
  }
 },
 "nbformat": 4,
 "nbformat_minor": 5
}
